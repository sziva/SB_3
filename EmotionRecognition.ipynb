{
  "nbformat": 4,
  "nbformat_minor": 0,
  "metadata": {
    "accelerator": "GPU",
    "colab": {
      "name": "EmotionRecognition.ipynb",
      "provenance": [],
      "collapsed_sections": []
    },
    "kernelspec": {
      "display_name": "Python 3",
      "name": "python3"
    }
  },
  "cells": [
    {
      "cell_type": "markdown",
      "metadata": {
        "id": "5FQpjWg4Ld6m"
      },
      "source": [
        "## 1.  Connect google Drive.\n"
      ]
    },
    {
      "cell_type": "code",
      "metadata": {
        "colab": {
          "base_uri": "https://localhost:8080/"
        },
        "id": "SyTEuhg7fR9P",
        "outputId": "3954a7c6-a3c8-431b-c3d3-4aa9906ded09"
      },
      "source": [
        "from google.colab import drive\n",
        "drive.mount('/content/gdrive')"
      ],
      "execution_count": 19,
      "outputs": [
        {
          "output_type": "stream",
          "text": [
            "Drive already mounted at /content/gdrive; to attempt to forcibly remount, call drive.mount(\"/content/gdrive\", force_remount=True).\n"
          ],
          "name": "stdout"
        }
      ]
    },
    {
      "cell_type": "markdown",
      "metadata": {
        "id": "UQy7KUb6NBs-"
      },
      "source": [
        "## 2. Import Libraries."
      ]
    },
    {
      "cell_type": "code",
      "metadata": {
        "id": "XRPQRtXGmm2W"
      },
      "source": [
        "%matplotlib inline\n",
        "import matplotlib.pyplot as plt\n",
        "\n",
        "import numpy as np\n",
        "from keras.utils import to_categorical\n",
        "from sklearn.model_selection import train_test_split\n",
        "\n",
        "from keras.models import Sequential #Initialise our neural network model as a sequential network\n",
        "from keras.layers import Conv2D #Convolution operation\n",
        "from keras.layers.normalization import BatchNormalization\n",
        "from keras.regularizers import l2\n",
        "from keras.layers import Activation#Applies activation function\n",
        "from keras.layers import Dropout#Prevents overfitting by randomly converting few outputs to zero\n",
        "from keras.layers import MaxPooling2D # Maxpooling function\n",
        "from keras.layers import Flatten # Converting 2D arrays into a 1D linear vector\n",
        "from keras.layers import Dense # Regular fully connected neural network\n",
        "from keras import optimizers\n",
        "from keras.callbacks import ReduceLROnPlateau, EarlyStopping, TensorBoard, ModelCheckpoint\n",
        "from sklearn.metrics import accuracy_score\n",
        "\n",
        "from keras import backend\n"
      ],
      "execution_count": 20,
      "outputs": []
    },
    {
      "cell_type": "markdown",
      "metadata": {
        "id": "xpAjYytuPDaU"
      },
      "source": [
        "## 3. Define Data loading mechanism.\n",
        "     \n"
      ]
    },
    {
      "cell_type": "code",
      "metadata": {
        "id": "H2XHQzzzrRyF"
      },
      "source": [
        "def load_data(dataset_path):\n",
        "  \n",
        "  #classes = ['Angry', 'Disgust', 'Fear', 'Happy', 'Sad', 'Surprsie', 'Neutral']  #We will be dealing with seven different types of emotions.\n",
        "\n",
        "  data = []\n",
        "  test_data = []\n",
        "  test_labels = []\n",
        "  labels =[]\n",
        "\n",
        "  with open(dataset_path, 'r') as file:\n",
        "      for line_no, line in enumerate(file.readlines()):\n",
        "          if 0 < line_no <= 35887:\n",
        "            curr_class, line, set_type = line.split(',')\n",
        "            image_data = np.asarray([int(x) for x in line.split()]).reshape(48, 48)#Creating a list out of the string then converting it into a 2-Dimensional numpy array.\n",
        "            image_data =image_data.astype(np.uint8)/255.0\n",
        "            \n",
        "            if (set_type.strip() == 'PrivateTest'):\n",
        "              \n",
        "              test_data.append(image_data)\n",
        "              test_labels.append(curr_class)\n",
        "            else:\n",
        "              data.append(image_data)\n",
        "              labels.append(curr_class)\n",
        "      \n",
        "      test_data = np.expand_dims(test_data, -1)\n",
        "      test_labels = to_categorical(test_labels, num_classes = 7)\n",
        "      data = np.expand_dims(data, -1)   \n",
        "      labels = to_categorical(labels, num_classes = 7)\n",
        "    \n",
        "      return np.array(data), np.array(labels), np.array(test_data), np.array(test_labels)"
      ],
      "execution_count": 21,
      "outputs": []
    },
    {
      "cell_type": "markdown",
      "metadata": {
        "id": "VFFZrnOgWOII"
      },
      "source": [
        "## 4. Load the data.\n"
      ]
    },
    {
      "cell_type": "code",
      "metadata": {
        "colab": {
          "base_uri": "https://localhost:8080/"
        },
        "id": "TpdOghEhxmsd",
        "outputId": "41781a79-dbc9-4d7b-d015-f3c19a3956f9"
      },
      "source": [
        "dataset_path = \"/content/gdrive/My Drive/Colab Notebooks/fer2013.csv\" \n",
        "train_data, train_labels, test_data, test_labels = load_data(dataset_path)\n",
        "#train_data, test_data, train_labels, test_labels = train_test_split(data, labels, test_size = test_size,random_state = seed)\n",
        "\n",
        "#print(test_labels)\n",
        "#print(test_data)\n",
        "print(\"Number of images in Training set:\", len(train_data))\n",
        "print(\"Number of images in Test set:\", len(test_data))"
      ],
      "execution_count": 22,
      "outputs": [
        {
          "output_type": "stream",
          "text": [
            "Number of images in Training set: 32298\n",
            "Number of images in Test set: 3589\n"
          ],
          "name": "stdout"
        }
      ]
    },
    {
      "cell_type": "markdown",
      "metadata": {
        "id": "Rne3AL0_WnF0"
      },
      "source": [
        "## 5. Define and Deploy the neural network.\n"
      ]
    },
    {
      "cell_type": "code",
      "metadata": {
        "colab": {
          "base_uri": "https://localhost:8080/"
        },
        "id": "F3VAm1A-0fpD",
        "outputId": "c4617487-051e-4f40-e843-5f4b537de7e0"
      },
      "source": [
        "#######HYPERPARAMATERS###########\n",
        "epochs = 500\n",
        "batch_size = 64\n",
        "learning_rate = 0.001\n",
        "#################################\n",
        "\n",
        "model = Sequential()\n",
        "    \n",
        "model.add(Conv2D(64, (3, 3), activation='relu', input_shape=(48, 48, 1), kernel_regularizer=l2(0.01)))\n",
        "model.add(Conv2D(64, (3, 3), padding='same',activation='relu'))\n",
        "model.add(BatchNormalization())\n",
        "model.add(MaxPooling2D(pool_size=(2,2), strides=(2, 2)))\n",
        "model.add(Dropout(0.5))\n",
        "    \n",
        "model.add(Conv2D(128, (3, 3), padding='same', activation='relu'))\n",
        "model.add(BatchNormalization())\n",
        "model.add(Conv2D(128, (3, 3), padding='same', activation='relu'))\n",
        "model.add(BatchNormalization())\n",
        "model.add(Conv2D(128, (3, 3), padding='same', activation='relu'))\n",
        "model.add(BatchNormalization())\n",
        "model.add(MaxPooling2D(pool_size=(2,2)))\n",
        "model.add(Dropout(0.5))\n",
        "    \n",
        "model.add(Conv2D(256, (3, 3), padding='same', activation='relu'))\n",
        "model.add(BatchNormalization())\n",
        "model.add(Conv2D(256, (3, 3), padding='same', activation='relu'))\n",
        "model.add(BatchNormalization())\n",
        "model.add(Conv2D(256, (3, 3), padding='same', activation='relu'))\n",
        "model.add(BatchNormalization())\n",
        "model.add(MaxPooling2D(pool_size=(2,2)))\n",
        "model.add(Dropout(0.5))\n",
        "    \n",
        "model.add(Conv2D(512, (3, 3), padding='same', activation='relu'))\n",
        "model.add(BatchNormalization())\n",
        "model.add(Conv2D(512, (3, 3), padding='same', activation='relu'))\n",
        "model.add(BatchNormalization())\n",
        "model.add(Conv2D(512, (3, 3), padding='same', activation='relu'))\n",
        "model.add(BatchNormalization())\n",
        "model.add(MaxPooling2D(pool_size=(2,2)))\n",
        "model.add(Dropout(0.5))\n",
        "    \n",
        "model.add(Flatten())\n",
        "model.add(Dense(512, activation='relu'))\n",
        "model.add(Dropout(0.5))\n",
        "model.add(Dense(256, activation='relu'))\n",
        "model.add(Dropout(0.5))\n",
        "model.add(Dense(128, activation='relu'))\n",
        "model.add(Dropout(0.5))\n",
        "model.add(Dense(64, activation='relu'))\n",
        "model.add(Dropout(0.5))\n",
        "model.add(Dense(7, activation='softmax'))\n",
        "adam = optimizers.Adam(lr = learning_rate)\n",
        "model.compile(optimizer = adam, loss = 'categorical_crossentropy', metrics = ['accuracy'])\n",
        "    \n",
        "print(model.summary())\n",
        "\n",
        "lr_reducer = ReduceLROnPlateau(monitor='val_loss', factor=0.9, patience=3)\n",
        "early_stopper = EarlyStopping(monitor='val_accuracy', min_delta=0, patience=500, mode='auto')\n",
        "checkpointer = ModelCheckpoint('/content/gdrive/My Drive/Colab Notebooks/Model500/weights.hd5', monitor='val_loss', verbose=1, save_best_only=True)\n",
        "\n",
        "history = model.fit(\n",
        "          train_data,\n",
        "          train_labels,\n",
        "          epochs = epochs,\n",
        "          batch_size = batch_size,\n",
        "          validation_split = 0.2,\n",
        "          shuffle = True,\n",
        "          callbacks=[lr_reducer, checkpointer, early_stopper]\n",
        "          )\n",
        "\n",
        "# list all data in history\n",
        "print(history.history.keys())\n",
        "# summarize history for accuracy\n",
        "plt.plot(history.history['accuracy'])\n",
        "plt.plot(history.history['val_accuracy'])\n",
        "plt.title('model accuracy')\n",
        "plt.ylabel('accuracy')\n",
        "plt.xlabel('epoch')\n",
        "plt.legend(['train', 'test'], loc='upper left')\n",
        "plt.show()\n",
        "# summarize history for loss\n",
        "plt.plot(history.history['loss'])\n",
        "plt.plot(history.history['val_loss'])\n",
        "plt.title('model loss')\n",
        "plt.ylabel('loss')\n",
        "plt.xlabel('epoch')\n",
        "plt.legend(['train', 'test'], loc='upper left')\n",
        "plt.show()"
      ],
      "execution_count": null,
      "outputs": [
        {
          "output_type": "stream",
          "text": [
            "Model: \"sequential_4\"\n",
            "_________________________________________________________________\n",
            "Layer (type)                 Output Shape              Param #   \n",
            "=================================================================\n",
            "conv2d_44 (Conv2D)           (None, 46, 46, 64)        640       \n",
            "_________________________________________________________________\n",
            "conv2d_45 (Conv2D)           (None, 46, 46, 64)        36928     \n",
            "_________________________________________________________________\n",
            "batch_normalization_40 (Batc (None, 46, 46, 64)        256       \n",
            "_________________________________________________________________\n",
            "max_pooling2d_16 (MaxPooling (None, 23, 23, 64)        0         \n",
            "_________________________________________________________________\n",
            "dropout_32 (Dropout)         (None, 23, 23, 64)        0         \n",
            "_________________________________________________________________\n",
            "conv2d_46 (Conv2D)           (None, 23, 23, 128)       73856     \n",
            "_________________________________________________________________\n",
            "batch_normalization_41 (Batc (None, 23, 23, 128)       512       \n",
            "_________________________________________________________________\n",
            "conv2d_47 (Conv2D)           (None, 23, 23, 128)       147584    \n",
            "_________________________________________________________________\n",
            "batch_normalization_42 (Batc (None, 23, 23, 128)       512       \n",
            "_________________________________________________________________\n",
            "conv2d_48 (Conv2D)           (None, 23, 23, 128)       147584    \n",
            "_________________________________________________________________\n",
            "batch_normalization_43 (Batc (None, 23, 23, 128)       512       \n",
            "_________________________________________________________________\n",
            "max_pooling2d_17 (MaxPooling (None, 11, 11, 128)       0         \n",
            "_________________________________________________________________\n",
            "dropout_33 (Dropout)         (None, 11, 11, 128)       0         \n",
            "_________________________________________________________________\n",
            "conv2d_49 (Conv2D)           (None, 11, 11, 256)       295168    \n",
            "_________________________________________________________________\n",
            "batch_normalization_44 (Batc (None, 11, 11, 256)       1024      \n",
            "_________________________________________________________________\n",
            "conv2d_50 (Conv2D)           (None, 11, 11, 256)       590080    \n",
            "_________________________________________________________________\n",
            "batch_normalization_45 (Batc (None, 11, 11, 256)       1024      \n",
            "_________________________________________________________________\n",
            "conv2d_51 (Conv2D)           (None, 11, 11, 256)       590080    \n",
            "_________________________________________________________________\n",
            "batch_normalization_46 (Batc (None, 11, 11, 256)       1024      \n",
            "_________________________________________________________________\n",
            "max_pooling2d_18 (MaxPooling (None, 5, 5, 256)         0         \n",
            "_________________________________________________________________\n",
            "dropout_34 (Dropout)         (None, 5, 5, 256)         0         \n",
            "_________________________________________________________________\n",
            "conv2d_52 (Conv2D)           (None, 5, 5, 512)         1180160   \n",
            "_________________________________________________________________\n",
            "batch_normalization_47 (Batc (None, 5, 5, 512)         2048      \n",
            "_________________________________________________________________\n",
            "conv2d_53 (Conv2D)           (None, 5, 5, 512)         2359808   \n",
            "_________________________________________________________________\n",
            "batch_normalization_48 (Batc (None, 5, 5, 512)         2048      \n",
            "_________________________________________________________________\n",
            "conv2d_54 (Conv2D)           (None, 5, 5, 512)         2359808   \n",
            "_________________________________________________________________\n",
            "batch_normalization_49 (Batc (None, 5, 5, 512)         2048      \n",
            "_________________________________________________________________\n",
            "max_pooling2d_19 (MaxPooling (None, 2, 2, 512)         0         \n",
            "_________________________________________________________________\n",
            "dropout_35 (Dropout)         (None, 2, 2, 512)         0         \n",
            "_________________________________________________________________\n",
            "flatten_4 (Flatten)          (None, 2048)              0         \n",
            "_________________________________________________________________\n",
            "dense_20 (Dense)             (None, 512)               1049088   \n",
            "_________________________________________________________________\n",
            "dropout_36 (Dropout)         (None, 512)               0         \n",
            "_________________________________________________________________\n",
            "dense_21 (Dense)             (None, 256)               131328    \n",
            "_________________________________________________________________\n",
            "dropout_37 (Dropout)         (None, 256)               0         \n",
            "_________________________________________________________________\n",
            "dense_22 (Dense)             (None, 128)               32896     \n",
            "_________________________________________________________________\n",
            "dropout_38 (Dropout)         (None, 128)               0         \n",
            "_________________________________________________________________\n",
            "dense_23 (Dense)             (None, 64)                8256      \n",
            "_________________________________________________________________\n",
            "dropout_39 (Dropout)         (None, 64)                0         \n",
            "_________________________________________________________________\n",
            "dense_24 (Dense)             (None, 7)                 455       \n",
            "=================================================================\n",
            "Total params: 9,014,727\n",
            "Trainable params: 9,009,223\n",
            "Non-trainable params: 5,504\n",
            "_________________________________________________________________\n",
            "None\n",
            "Epoch 1/500\n",
            "404/404 [==============================] - 27s 64ms/step - loss: 2.6459 - accuracy: 0.1820 - val_loss: 1.8814 - val_accuracy: 0.2489\n",
            "\n",
            "Epoch 00001: val_loss improved from inf to 1.88144, saving model to /content/gdrive/My Drive/Colab Notebooks/Model500/weights.hd5\n",
            "INFO:tensorflow:Assets written to: /content/gdrive/My Drive/Colab Notebooks/Model500/weights.hd5/assets\n",
            "Epoch 2/500\n",
            "404/404 [==============================] - 26s 64ms/step - loss: 1.8654 - accuracy: 0.2293 - val_loss: 1.8318 - val_accuracy: 0.2489\n",
            "\n",
            "Epoch 00002: val_loss improved from 1.88144 to 1.83179, saving model to /content/gdrive/My Drive/Colab Notebooks/Model500/weights.hd5\n",
            "INFO:tensorflow:Assets written to: /content/gdrive/My Drive/Colab Notebooks/Model500/weights.hd5/assets\n",
            "Epoch 3/500\n",
            "369/404 [==========================>...] - ETA: 2s - loss: 1.8432 - accuracy: 0.2470"
          ],
          "name": "stdout"
        }
      ]
    },
    {
      "cell_type": "markdown",
      "metadata": {
        "id": "TD8ppILhFUrz"
      },
      "source": [
        "## 6. Test the model."
      ]
    },
    {
      "cell_type": "code",
      "metadata": {
        "colab": {
          "base_uri": "https://localhost:8080/",
          "height": 795
        },
        "id": "OzhQw9NOWjl3",
        "outputId": "5d5e2c93-3587-4766-978c-ab76d5470145"
      },
      "source": [
        "predicted_test_labels = np.argmax(model.predict(test_data), axis=1)\n",
        "test_labels = np.argmax(test_labels, axis=1)\n",
        "print (\"Accuracy score = \", accuracy_score(test_labels, predicted_test_labels))\n",
        "print(\"PTL: \", model.predict(test_data))\n",
        "print(\"TL: \", test_labels)\n",
        "plt.plot(model.predict(test_data))\n",
        "plt.show()\n",
        "\n",
        "y_pred = model.predict(test_data)\n",
        "y_test = test_labels\n",
        "ranks = 7\n",
        "\n",
        "def calculate_cmc(y_pred, y_test, num_ranks=10):\n",
        "\n",
        "    ranks = num_ranks\n",
        "    rank_scores = np.zeros(ranks)\n",
        "\n",
        "    for el_pred, el_true in zip(y_pred, y_test):   \n",
        "        for r in range(ranks):\n",
        "            r_max_val_ind = np.argsort(el_pred)[-(r+1):][0]\n",
        "            r_max_val = el_pred[r_max_val_ind]\n",
        "            correct_ranks = ((el_pred >= r_max_val) * 1)\n",
        "\n",
        "            yind = np.argmax(el_true, axis=-1)\n",
        "            if correct_ranks[yind] == 1:\n",
        "                rank_scores[r] += 1\n",
        "\n",
        "\n",
        "    rank_scores = rank_scores / y_pred.shape[0]\n",
        "    return rank_scores\n",
        "\n",
        "scores = calculate_cmc(y_pred, y_test, num_ranks=ranks)\n",
        "\n",
        "plt.plot(np.arange(1,ranks+1), scores*100)\n",
        "plt.title(\"CMC Curve\")\n",
        "plt.xlabel(\"Rank\")\n",
        "plt.xticks(np.arange(1,ranks+1))\n",
        "plt.ylabel(\"Score (%)\")\n",
        "plt.show()\n"
      ],
      "execution_count": 26,
      "outputs": [
        {
          "output_type": "stream",
          "text": [
            "Accuracy score =  0.6363889662858735\n",
            "PTL:  [[2.5715077e-02 4.7872370e-05 6.1750323e-02 ... 9.0509415e-01\n",
            "  3.3778633e-04 6.5223537e-03]\n",
            " [2.3632510e-02 3.8824259e-05 5.7763152e-02 ... 9.1151148e-01\n",
            "  2.9523953e-04 6.2924246e-03]\n",
            " [1.6722110e-01 1.8759147e-03 7.5564271e-01 ... 6.5388903e-02\n",
            "  6.5537929e-03 1.2346572e-04]\n",
            " ...\n",
            " [7.6616801e-02 4.2131401e-04 7.7690828e-01 ... 1.3837925e-01\n",
            "  5.2897087e-03 3.4043967e-04]\n",
            " [2.3454944e-04 1.7910254e-10 3.5437344e-05 ... 1.9672166e-03\n",
            "  4.9189003e-03 3.1699863e-01]\n",
            " [5.9207242e-02 2.8950055e-04 6.2896329e-01 ... 3.0283856e-01\n",
            "  4.6672295e-03 1.6671397e-03]]\n",
            "TL:  [0 5 6 ... 0 3 2]\n"
          ],
          "name": "stdout"
        },
        {
          "output_type": "display_data",
          "data": {
            "image/png": "[encoded data removed]",
            "text/plain": [
              "<Figure size 432x288 with 1 Axes>"
            ]
          },
          "metadata": {
            "tags": [],
            "needs_background": "light"
          }
        },
        {
          "output_type": "display_data",
          "data": {
            "image/png": "[encoded data removed]",
            "text/plain": [
              "<Figure size 432x288 with 1 Axes>"
            ]
          },
          "metadata": {
            "tags": [],
            "needs_background": "light"
          }
        }
      ]
    },
    {
      "cell_type": "markdown",
      "metadata": {
        "id": "CGsta6kKHr82"
      },
      "source": [
        "## 7. Save the model."
      ]
    },
    {
      "cell_type": "code",
      "metadata": {
        "colab": {
          "base_uri": "https://localhost:8080/"
        },
        "id": "uiMswpPsr4KK",
        "outputId": "19a6919c-ca77-42f6-9e9a-f48028dee763"
      },
      "source": [
        "from keras.models import model_from_json\n",
        "model_json = model.to_json()\n",
        "with open(\"/content/gdrive/My Drive/Colab Notebooks/Model500/model.json\", \"w\") as json_file:\n",
        "    json_file.write(model_json)\n",
        "# serialize weights to HDF5\n",
        "model.save_weights(\"/content/gdrive/My Drive/Colab Notebooks/Model500/model.h5\")\n",
        "print(\"Saved model to disk\")"
      ],
      "execution_count": 27,
      "outputs": [
        {
          "output_type": "stream",
          "text": [
            "Saved model to disk\n"
          ],
          "name": "stdout"
        }
      ]
    }
  ]
}